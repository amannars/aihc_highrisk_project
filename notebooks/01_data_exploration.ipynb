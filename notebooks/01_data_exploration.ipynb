{
 "cells": [
  {
   "cell_type": "markdown",
   "id": "7739cf95",
   "metadata": {},
   "source": [
    "# Data Extraction       "
   ]
  },
  {
   "cell_type": "markdown",
   "id": "0bf7b7f3",
   "metadata": {},
   "source": [
    "**Note: For educational/tutorial purposes, I have left in place the details of an approach that didnt work. This is how most of the real life data science problems are. I wanted to protect the originality of the workflow in this tutorial.**"
   ]
  },
  {
   "cell_type": "markdown",
   "id": "0e838c9a",
   "metadata": {},
   "source": [
    "## Details   "
   ]
  },
  {
   "cell_type": "markdown",
   "id": "48887517",
   "metadata": {},
   "source": [
    "**The primary goal of this tutorial is to showcase that we can use biobert embeddings as features, in addition to other features to train a machine learning algorithm. Traditionally, features have been thought to be data in a column that is not free form text. With the advent of language models, we understand that the embeddings are representational learning of free form text and that embeddings(or vectors) provide us structure for free form text that didn't exist before. My goal is to showcase how to use this in combination with traditional AI/ML methodlogy to train a deep neural network.** "
   ]
  },
  {
   "cell_type": "markdown",
   "id": "0729f112",
   "metadata": {},
   "source": [
    "The goal of this project is to predict the probability that a given hospitalized patient will be hospitalized again in 30 days, 60 days, and 90 days. Again, while this is the same readmission process, the novelty lies in the approach that I have taken to solve this problem. One of the most important identifiers is the `subject_id` which is contained in the table `patients` within the hospital schema. It is a good starting point for any type of data analysis project. Let us understand the basics of this dataset.   \n",
    "The tables that we will use are:   \n",
    "1. patients.csv   \n",
    "2. admissions.csv  \n",
    "3. diagnoses_icd.csv   \n",
    "4. d_code-diagnoses.csv     "
   ]
  },
  {
   "cell_type": "code",
   "execution_count": 1,
   "id": "29a901e8",
   "metadata": {},
   "outputs": [],
   "source": [
    "# Load the relevant libraries\n",
    "import pandas as pd\n",
    "import numpy as np\n",
    "import matplotlib.pyplot as plt"
   ]
  },
  {
   "cell_type": "markdown",
   "id": "0a693fd3",
   "metadata": {},
   "source": [
    "### Patient dataset  "
   ]
  },
  {
   "cell_type": "code",
   "execution_count": null,
   "id": "149d2267",
   "metadata": {},
   "outputs": [
    {
     "name": "stdout",
     "output_type": "stream",
     "text": [
      "<class 'pandas.core.frame.DataFrame'>\n",
      "RangeIndex: 364627 entries, 0 to 364626\n",
      "Data columns (total 6 columns):\n",
      " #   Column             Non-Null Count   Dtype \n",
      "---  ------             --------------   ----- \n",
      " 0   subject_id         364627 non-null  object\n",
      " 1   gender             364627 non-null  object\n",
      " 2   anchor_age         364627 non-null  int64 \n",
      " 3   anchor_year        364627 non-null  int64 \n",
      " 4   anchor_year_group  364627 non-null  object\n",
      " 5   dod                38301 non-null   object\n",
      "dtypes: int64(2), object(4)\n",
      "memory usage: 16.7+ MB\n",
      "None\n",
      "  subject_id gender  anchor_age  anchor_year anchor_year_group         dod\n",
      "0   10000032      F          52         2180       2014 - 2016  2180-09-09\n",
      "1   10000048      F          23         2126       2008 - 2010         NaN\n",
      "2   10000058      F          33         2168       2020 - 2022         NaN\n",
      "3   10000068      F          19         2160       2008 - 2010         NaN\n",
      "4   10000084      M          72         2160       2017 - 2019  2161-02-13\n",
      "          anchor_age    anchor_year\n",
      "count  364627.000000  364627.000000\n",
      "mean       48.875097    2150.835404\n",
      "std        20.943316      23.395666\n",
      "min        18.000000    2110.000000\n",
      "25%        29.000000    2131.000000\n",
      "50%        48.000000    2151.000000\n",
      "75%        65.000000    2171.000000\n",
      "max        91.000000    2208.000000\n"
     ]
    }
   ],
   "source": [
    "patients_raw = pd.read_csv('../data/raw/patients.csv.gz', \n",
    "                           compression='gzip', \n",
    "                           dtype={'subject_id': str,\n",
    "                                  'gender': str})\n",
    "\n",
    "print(patients_raw.info())\n",
    "print(patients_raw.head())\n",
    "print(patients_raw.describe())"
   ]
  },
  {
   "cell_type": "markdown",
   "id": "f2017780",
   "metadata": {},
   "source": [
    "The subject_id is the key identifier across all the tables. Since this is a large dataset, we need to work on a sample of data to be able to build our machine learning model. There are multiple ways to select a sample. Let us understand the distribution of `gender`, `anchor_year_group`, `anchor_age`, and `dod` distribution to strategize our sample selection. `dod` is a date, so it might be best to create a new column `death_flag` which will be binary, to recognize if a given subject is dead.      "
   ]
  },
  {
   "cell_type": "code",
   "execution_count": 3,
   "id": "8a0329e2",
   "metadata": {},
   "outputs": [
    {
     "name": "stdout",
     "output_type": "stream",
     "text": [
      "Counts:\n",
      " death_flag   Died  Survived   Total\n",
      "gender                             \n",
      "F           18114    173870  191984\n",
      "M           20187    152456  172643\n",
      "Total       38301    326326  364627 \n",
      "\n"
     ]
    }
   ],
   "source": [
    "# Create a binary “death flag”\n",
    "patients_raw['death_flag'] = patients_raw['dod'].notna().map({True: 'Died', False: 'Survived'})\n",
    "\n",
    "# Understanding the death_flag by gender\n",
    "ct_counts = pd.crosstab(\n",
    "    patients_raw['gender'],\n",
    "    patients_raw['death_flag'],\n",
    "    margins=True,\n",
    "    margins_name='Total'\n",
    ")\n",
    "print(\"Counts:\\n\", ct_counts, \"\\n\")"
   ]
  },
  {
   "cell_type": "markdown",
   "id": "ae964768",
   "metadata": {},
   "source": [
    "This is a pretty even split. So when we select a random sample, it is likely that `gender` and `death_flag` should be representative of the gender and survival. Let us also understand the split of  `anchor_age_group`. "
   ]
  },
  {
   "cell_type": "code",
   "execution_count": 4,
   "id": "3ba7bd1d",
   "metadata": {},
   "outputs": [
    {
     "data": {
      "text/plain": [
       "Text(0.5, 1.0, 'Anchor Year Group')"
      ]
     },
     "execution_count": 4,
     "metadata": {},
     "output_type": "execute_result"
    },
    {
     "data": {
      "image/png": "[encoded data removed]",
      "text/plain": [
       "<Figure size 640x480 with 1 Axes>"
      ]
     },
     "metadata": {},
     "output_type": "display_data"
    }
   ],
   "source": [
    "group_counts = patients_raw['anchor_year_group'].value_counts()\n",
    "group_counts.plot(kind='bar').set_title('Anchor Year Group')"
   ]
  },
  {
   "cell_type": "code",
   "execution_count": 6,
   "id": "4bf50a3a",
   "metadata": {},
   "outputs": [
    {
     "data": {
      "image/png": "[encoded data removed]",
      "text/plain": [
       "<Figure size 640x480 with 1 Axes>"
      ]
     },
     "metadata": {},
     "output_type": "display_data"
    }
   ],
   "source": [
    "# Density plot of anchor_age\n",
    "patients_raw['anchor_age'].plot(kind='density')\n",
    "plt.xlabel('Anchor Age')\n",
    "plt.title('Density Plot of Anchor Age')\n",
    "plt.tight_layout()\n",
    "plt.show()"
   ]
  },
  {
   "cell_type": "markdown",
   "id": "bb7a91ed",
   "metadata": {},
   "source": [
    "Based on the density plot, it may be best to keep the cohort to anchor_age 20 to 80. "
   ]
  },
  {
   "cell_type": "markdown",
   "id": "2af25284",
   "metadata": {},
   "source": [
    "#### Cohort Selection Criteria   \n",
    "\n",
    "1. Random sample of 25,000 subject_id s(Since this is a large enough sample, stratification is not required).   \n",
    "2. Age at least 20 and at most 80.   "
   ]
  },
  {
   "cell_type": "markdown",
   "id": "0ec018dd",
   "metadata": {},
   "source": [
    "**The next few steps didnt work as expected so I had to devise a new plan on the go. If you would rather get to the point that which worked directly, please go to section:**"
   ]
  },
  {
   "cell_type": "code",
   "execution_count": null,
   "id": "c23619de",
   "metadata": {},
   "outputs": [],
   "source": [
    "# Select ages 20 to 80 and random sample of 25,000 subject_id s\n",
    "patients_sel = patients_raw[(patients_raw['anchor_age'] >= 20) & (patients_raw['anchor_age'] <= 80)]\n",
    "patients_sel = patients_sel.sample(n=25000, random_state=46)\n",
    "\n",
    "# Save the selected patients to a new CSV file\n",
    "patients_sel.to_csv('../data/processed/patients_selected.csv', \n",
    "                    index=False)\n",
    "\n",
    "# Remove the original patients file from memory\n",
    "del patients_raw"
   ]
  },
  {
   "cell_type": "markdown",
   "id": "4f542cf5",
   "metadata": {},
   "source": [
    "### Admissions dataset      \n",
    "Let us select the demographics of the selected cohort.   "
   ]
  },
  {
   "cell_type": "code",
   "execution_count": null,
   "id": "d318d14e",
   "metadata": {},
   "outputs": [
    {
     "name": "stdout",
     "output_type": "stream",
     "text": [
      "<class 'pandas.core.frame.DataFrame'>\n",
      "Index: 36393 entries, 13 to 545948\n",
      "Data columns (total 7 columns):\n",
      " #   Column              Non-Null Count  Dtype \n",
      "---  ------              --------------  ----- \n",
      " 0   subject_id          36393 non-null  object\n",
      " 1   race                36393 non-null  object\n",
      " 2   marital_status      35527 non-null  object\n",
      " 3   insurance           35744 non-null  object\n",
      " 4   admission_type      36393 non-null  object\n",
      " 5   admission_location  36393 non-null  object\n",
      " 6   discharge_location  26371 non-null  object\n",
      "dtypes: object(7)\n",
      "memory usage: 2.2+ MB\n",
      "None\n",
      "race\n",
      "AMERICAN INDIAN/ALASKA NATIVE                   92\n",
      "ASIAN                                          570\n",
      "ASIAN - ASIAN INDIAN                           107\n",
      "ASIAN - CHINESE                                537\n",
      "ASIAN - KOREAN                                  37\n",
      "ASIAN - SOUTH EAST ASIAN                       136\n",
      "BLACK/AFRICAN                                  222\n",
      "BLACK/AFRICAN AMERICAN                        5099\n",
      "BLACK/CAPE VERDEAN                             441\n",
      "BLACK/CARIBBEAN ISLAND                         240\n",
      "HISPANIC OR LATINO                             533\n",
      "HISPANIC/LATINO - CENTRAL AMERICAN              49\n",
      "HISPANIC/LATINO - COLUMBIAN                     76\n",
      "HISPANIC/LATINO - CUBAN                         57\n",
      "HISPANIC/LATINO - DOMINICAN                    440\n",
      "HISPANIC/LATINO - GUATEMALAN                   107\n",
      "HISPANIC/LATINO - HONDURAN                      30\n",
      "HISPANIC/LATINO - MEXICAN                       60\n",
      "HISPANIC/LATINO - PUERTO RICAN                 771\n",
      "HISPANIC/LATINO - SALVADORAN                    88\n",
      "MULTIPLE RACE/ETHNICITY                         33\n",
      "NATIVE HAWAIIAN OR OTHER PACIFIC ISLANDER       21\n",
      "OTHER                                         1412\n",
      "PATIENT DECLINED TO ANSWER                     143\n",
      "PORTUGUESE                                     180\n",
      "SOUTH AMERICAN                                  37\n",
      "UNABLE TO OBTAIN                               237\n",
      "UNKNOWN                                        928\n",
      "WHITE                                        22304\n",
      "WHITE - BRAZILIAN                              113\n",
      "WHITE - EASTERN EUROPEAN                       124\n",
      "WHITE - OTHER EUROPEAN                         921\n",
      "WHITE - RUSSIAN                                248\n",
      "dtype: int64\n",
      "insurance\n",
      "Medicaid      7561\n",
      "Medicare     14260\n",
      "No charge       31\n",
      "Other          959\n",
      "Private      12933\n",
      "dtype: int64\n"
     ]
    }
   ],
   "source": [
    "# Let us store the subject_id of the selected cohort in a list so we can readily apply this filter\n",
    "subject_id_list = patients_sel['subject_id'].tolist()\n",
    "\n",
    "# Since the admissions table contains the ethinicity and insurance information, we will filter the admissions table to only include the subject_id in the list\n",
    "admissions_raw = pd.read_csv('../data/raw/admissions.csv.gz', \n",
    "                            compression='gzip', \n",
    "                            dtype={'subject_id': str,\n",
    "                                   'race': str,\n",
    "                                   'marital_status': str,\n",
    "                                   'insurance': str,\n",
    "                                   'admission_type': str,\n",
    "                                   'admission_location': str,\n",
    "                                   'discharge_location': str})[['subject_id', 'race', 'marital_status', 'insurance', 'admission_type', 'admission_location', 'discharge_location']]\n",
    "\n",
    "admissions_sel = admissions_raw[admissions_raw['subject_id'].isin(subject_id_list)]\n",
    " # Write the selected admissions to a new CSV file\n",
    "admissions_sel.to_csv('../data/processed/admissions_selected.csv', index=False)\n",
    "\n",
    "# Remove the original admissions file from memory\n",
    "del admissions_raw\n",
    "\n",
    "print(admissions_sel.info())\n",
    "# Let us understand the race and insurance distribution of the selected cohort\n",
    "print(admissions_sel.groupby('race').size())\n",
    "print(admissions_sel.groupby('insurance').size())"
   ]
  },
  {
   "cell_type": "markdown",
   "id": "422ee308",
   "metadata": {},
   "source": [
    "Clearly, there are a lot of columns and the groups that are too granular for the analysis that we are going to do. It may be best to collapse them into fewer representative group. There are many categories and for the sake of generalization and simplicity, let's collapse the `race` to BLACK_ALL, HISPANIC_ALL, ASIAN_ALL, WHITE_ALL, OTHERS and NATIVE. "
   ]
  },
  {
   "cell_type": "code",
   "execution_count": null,
   "id": "7cace8ca",
   "metadata": {},
   "outputs": [],
   "source": [
    "# Lets create a modified race column called race_mod\n",
    "admissions_sel['race_mod'] = admissions_sel['race']"
   ]
  },
  {
   "cell_type": "code",
   "execution_count": null,
   "id": "3c143540",
   "metadata": {},
   "outputs": [
    {
     "name": "stdout",
     "output_type": "stream",
     "text": [
      "race_group\n",
      "WHITE        23710\n",
      "BLACK         6002\n",
      "OTHER_ALL     2970\n",
      "HISPANIC      2211\n",
      "ASIAN         1387\n",
      "NATIVE         113\n",
      "Name: count, dtype: int64\n"
     ]
    }
   ],
   "source": [
    "import pandas as pd\n",
    "import numpy as np\n",
    "\n",
    "# assume your DataFrame is called df\n",
    "\n",
    "# define the conditions (order matters: “BLACK” before “BLACK/CAPE…” both match the first)\n",
    "conds = [\n",
    "    admissions_sel['race_mod'].str.contains('BLACK', case=False, na=False),\n",
    "    admissions_sel['race_mod'].str.contains('WHITE', case=False, na=False),\n",
    "    admissions_sel['race_mod'].str.contains('ASIAN', case=False, na=False),\n",
    "    admissions_sel['race_mod'].str.contains('HISPANIC', case=False, na=False),\n",
    "    # any of these substrings → native\n",
    "    admissions_sel['race_mod'].str.contains('AMERICAN INDIAN|ALASKA NATIVE|HAWAIIAN|PACIFIC ISLANDER',\n",
    "                               case=False, na=False),\n",
    "]\n",
    "\n",
    "# the new group names\n",
    "choices = [\n",
    "    'BLACK',\n",
    "    'WHITE',\n",
    "    'ASIAN',\n",
    "    'HISPANIC',\n",
    "    'NATIVE',\n",
    "]\n",
    "\n",
    "# collapse into a new column\n",
    "admissions_sel['race_group'] = np.select(conds, choices, default='OTHER_ALL')\n",
    "\n",
    "# make it a categorical for memory & modeling\n",
    "admissions_sel['race_group'] = admissions_sel['race_group'].astype('category')\n",
    "\n",
    "# check your work\n",
    "print(admissions_sel['race_group'].value_counts())\n"
   ]
  },
  {
   "cell_type": "markdown",
   "id": "7b4faecd",
   "metadata": {},
   "source": [
    "This information is very revealing. We are likely to have class imbalance situation as the Whites are over represented in the cohort. However, we do not have the race information in the patients table. Due to this, our approach didnt work well. Let us revise our strategy to select the subject_ids that will help us overcome this challenge. One approach will be to take just the subject_id and race column from the admissions table as the starting point instead of the patients table. Then get just the unique values and remove any duplicated subject_id. Use an even representation of races from this dataset to go back to patients table for selection.   \n",
    "\n",
    "Let us start fresh, but this time from admissions table:   "
   ]
  },
  {
   "cell_type": "code",
   "execution_count": null,
   "id": "3895f59c",
   "metadata": {},
   "outputs": [
    {
     "name": "stdout",
     "output_type": "stream",
     "text": [
      "race\n",
      "WHITE                                        141525\n",
      "BLACK/AFRICAN AMERICAN                        24014\n",
      "UNKNOWN                                       11749\n",
      "OTHER                                         11683\n",
      "WHITE - OTHER EUROPEAN                         6626\n",
      "ASIAN                                          4620\n",
      "HISPANIC OR LATINO                             4163\n",
      "HISPANIC/LATINO - PUERTO RICAN                 3905\n",
      "ASIAN - CHINESE                                3542\n",
      "UNABLE TO OBTAIN                               2997\n",
      "HISPANIC/LATINO - DOMINICAN                    2549\n",
      "BLACK/CAPE VERDEAN                             2409\n",
      "WHITE - RUSSIAN                                2331\n",
      "BLACK/CARIBBEAN ISLAND                         1623\n",
      "BLACK/AFRICAN                                  1618\n",
      "PATIENT DECLINED TO ANSWER                     1554\n",
      "ASIAN - SOUTH EAST ASIAN                        887\n",
      "ASIAN - ASIAN INDIAN                            841\n",
      "WHITE - EASTERN EUROPEAN                        826\n",
      "HISPANIC/LATINO - GUATEMALAN                    785\n",
      "PORTUGUESE                                      759\n",
      "WHITE - BRAZILIAN                               745\n",
      "HISPANIC/LATINO - SALVADORAN                    582\n",
      "AMERICAN INDIAN/ALASKA NATIVE                   536\n",
      "HISPANIC/LATINO - MEXICAN                       481\n",
      "HISPANIC/LATINO - COLUMBIAN                     436\n",
      "SOUTH AMERICAN                                  395\n",
      "ASIAN - KOREAN                                  349\n",
      "MULTIPLE RACE/ETHNICITY                         343\n",
      "HISPANIC/LATINO - HONDURAN                      290\n",
      "NATIVE HAWAIIAN OR OTHER PACIFIC ISLANDER       278\n",
      "HISPANIC/LATINO - CENTRAL AMERICAN              251\n",
      "HISPANIC/LATINO - CUBAN                         242\n",
      "Name: count, dtype: int64\n"
     ]
    }
   ],
   "source": [
    "# select only the subject_id and race from admissions_raw table. Remove the duplicates.\n",
    "admissions_raw = pd.read_csv('../data/raw/admissions.csv.gz', \n",
    "                            compression='gzip', \n",
    "                            dtype={'subject_id': str,\n",
    "                                   'race': str})\n",
    "\n",
    "admissions_raw = admissions_raw[['subject_id', 'race']].drop_duplicates()\n",
    "\n",
    "print(admissions_raw['race'].value_counts())"
   ]
  },
  {
   "cell_type": "code",
   "execution_count": null,
   "id": "a89845fa",
   "metadata": {},
   "outputs": [
    {
     "name": "stdout",
     "output_type": "stream",
     "text": [
      "race_group\n",
      "WHITE        152053\n",
      "BLACK         29664\n",
      "OTHER_ALL     29480\n",
      "HISPANIC      13684\n",
      "ASIAN         10239\n",
      "NATIVE          814\n",
      "Name: count, dtype: int64\n"
     ]
    }
   ],
   "source": [
    "# define the conditions (order matters: “BLACK” before “BLACK/CAPE…” both match the first)\n",
    "conds = [\n",
    "    admissions_raw['race'].str.contains('BLACK', case=False, na=False),\n",
    "    admissions_raw['race'].str.contains('WHITE', case=False, na=False),\n",
    "    admissions_raw['race'].str.contains('ASIAN', case=False, na=False),\n",
    "    admissions_raw['race'].str.contains('HISPANIC', case=False, na=False),\n",
    "    # any of these substrings → native\n",
    "    admissions_raw['race'].str.contains('AMERICAN INDIAN|ALASKA NATIVE|HAWAIIAN|PACIFIC ISLANDER',\n",
    "                               case=False, na=False),\n",
    "]\n",
    "\n",
    "# the new group names\n",
    "choices = [\n",
    "    'BLACK',\n",
    "    'WHITE',\n",
    "    'ASIAN',\n",
    "    'HISPANIC',\n",
    "    'NATIVE',\n",
    "]\n",
    "\n",
    "# collapse into a new column\n",
    "admissions_raw['race_group'] = np.select(conds, choices, default='OTHER_ALL')\n",
    "\n",
    "# make it a categorical for memory & modeling\n",
    "admissions_raw['race_group'] = admissions_raw['race_group'].astype('category')\n",
    "\n",
    "# check your work\n",
    "print(admissions_raw['race_group'].value_counts())"
   ]
  },
  {
   "cell_type": "markdown",
   "id": "c521af97",
   "metadata": {},
   "source": [
    "So except for 'NATIVE', we have a decent sample across all the other races. So we will keep all the 'NATIVE' category and keep exactly 5000 subject_ids from the rest. And then we will repeat the process as before. We do not have to do any further stratification for the purposes of this tutorial as we have already verified the data distribution in the patients table.    "
   ]
  },
  {
   "cell_type": "code",
   "execution_count": null,
   "id": "2a859d5e",
   "metadata": {},
   "outputs": [
    {
     "name": "stdout",
     "output_type": "stream",
     "text": [
      "race_group\n",
      "ASIAN        5000\n",
      "BLACK        5000\n",
      "HISPANIC     5000\n",
      "OTHER_ALL    5000\n",
      "WHITE        5000\n",
      "NATIVE        814\n",
      "Name: count, dtype: int64\n"
     ]
    }
   ],
   "source": [
    "# Randomly select 5000 WHITE, 5000 BLACK, 5000 ASIAN, 5000 HISPANIC, 5000 NATIVE from the admissions_raw table\n",
    "# with values exactly: 'WHITE', 'BLACK', 'ASIAN', 'HISPANIC', 'OTHER_ALL', 'NATIVE'\n",
    "\n",
    "to_sample = ['WHITE', 'BLACK', 'ASIAN', 'HISPANIC', 'OTHER_ALL']\n",
    "subsamples = []\n",
    "\n",
    "# sample 5000 from each of the big groups\n",
    "for grp in to_sample:\n",
    "    grp_df = admissions_raw[admissions_raw['race_group'] == grp]\n",
    "    # sanity check\n",
    "    if len(grp_df) < 5000:\n",
    "        raise ValueError(f\"Not enough records in group {grp} (only {len(grp_df)})\")\n",
    "    subsamples.append(\n",
    "        grp_df.sample(n=5000, random_state=46)\n",
    "    )\n",
    "\n",
    "# append the entire NATIVE group\n",
    "native_df = admissions_raw[admissions_raw['race_group'] == 'NATIVE']\n",
    "subsamples.append(native_df)\n",
    "\n",
    "# concatenate and shuffle\n",
    "sample_df = pd.concat(subsamples, axis=0).reset_index(drop=True)\n",
    "\n",
    "# check your new counts\n",
    "print(sample_df['race_group'].value_counts())\n",
    "\n",
    "# write the selected patients to a new CSV file\n",
    "sample_df.to_csv('../data/processed/patients_selected.csv', index=False)\n"
   ]
  },
  {
   "cell_type": "markdown",
   "id": "695962b9",
   "metadata": {},
   "source": [
    "This looks good! Now lets collects the subject_id s and redo the patients file and the admissions file. And we will promptly remove the large files so that we have sufficient memory to train the machine learning algorithm. "
   ]
  },
  {
   "cell_type": "code",
   "execution_count": null,
   "id": "6ed62466",
   "metadata": {},
   "outputs": [],
   "source": [
    "sample_df = pd.read_csv('../data/processed/patients_selected.csv',\n",
    "                        dtype={'subject_id': str})\n",
    "\n",
    "# Let us store the subject_id of the selected cohort in a list so we can readily apply this filter\n",
    "subject_id_list = sample_df['subject_id'].tolist()"
   ]
  },
  {
   "cell_type": "code",
   "execution_count": null,
   "id": "f2092eaa",
   "metadata": {},
   "outputs": [
    {
     "name": "stdout",
     "output_type": "stream",
     "text": [
      "<class 'pandas.core.frame.DataFrame'>\n",
      "Index: 67025 entries, 21 to 545934\n",
      "Data columns (total 16 columns):\n",
      " #   Column                Non-Null Count  Dtype \n",
      "---  ------                --------------  ----- \n",
      " 0   subject_id            67025 non-null  object\n",
      " 1   hadm_id               67025 non-null  int64 \n",
      " 2   admittime             67025 non-null  object\n",
      " 3   dischtime             67025 non-null  object\n",
      " 4   deathtime             1387 non-null   object\n",
      " 5   admission_type        67025 non-null  object\n",
      " 6   admit_provider_id     67025 non-null  object\n",
      " 7   admission_location    67025 non-null  object\n",
      " 8   discharge_location    47014 non-null  object\n",
      " 9   insurance             65671 non-null  object\n",
      " 10  language              66933 non-null  object\n",
      " 11  marital_status        64755 non-null  object\n",
      " 12  race                  67025 non-null  object\n",
      " 13  edregtime             46937 non-null  object\n",
      " 14  edouttime             46937 non-null  object\n",
      " 15  hospital_expire_flag  67025 non-null  int64 \n",
      "dtypes: int64(2), object(14)\n",
      "memory usage: 8.7+ MB\n",
      "None\n",
      "<class 'pandas.core.frame.DataFrame'>\n",
      "Index: 25363 entries, 26 to 364573\n",
      "Data columns (total 7 columns):\n",
      " #   Column             Non-Null Count  Dtype \n",
      "---  ------             --------------  ----- \n",
      " 0   subject_id         25363 non-null  object\n",
      " 1   gender             25363 non-null  object\n",
      " 2   anchor_age         25363 non-null  int64 \n",
      " 3   anchor_year        25363 non-null  int64 \n",
      " 4   anchor_year_group  25363 non-null  object\n",
      " 5   dod                3610 non-null   object\n",
      " 6   death_flag         25363 non-null  object\n",
      "dtypes: int64(2), object(5)\n",
      "memory usage: 1.5+ MB\n",
      "None\n"
     ]
    }
   ],
   "source": [
    "# Let us store the subject_id of the selected cohort in a list so we can readily apply this filter\n",
    "subject_id_list = sample_df['subject_id'].tolist()\n",
    "admissions_raw = pd.read_csv('../data/raw/admissions.csv.gz', \n",
    "                            compression='gzip', \n",
    "                            dtype={'subject_id': str,\n",
    "                                   'race': str,\n",
    "                                   'marital_status': str,\n",
    "                                   'insurance': str,\n",
    "                                   'admission_type': str,\n",
    "                                   'admission_location': str,\n",
    "                                   'discharge_location': str})\n",
    "\n",
    "\n",
    "admissions_sel = admissions_raw[admissions_raw['subject_id'].isin(subject_id_list)]\n",
    "admissions_sel.to_csv('../data/processed/admissions_selected.csv', \n",
    "                      index=False)\n",
    "\n",
    "print(admissions_sel.info())\n",
    "\n",
    "# Since the admissions table contains the ethinicity and insurance information, we will filter the admissions table to only include the subject_id in the list\n",
    "\n",
    "patients_raw = pd.read_csv('../data/raw/patients.csv.gz', \n",
    "                            compression='gzip', \n",
    "                            dtype={'subject_id': str,\n",
    "                                   'gender': str})\n",
    "patients_raw['death_flag'] = patients_raw['dod'].notna().map({True: 'Died', False: 'Survived'})\n",
    "patients_sel = patients_raw[patients_raw['subject_id'].isin(subject_id_list)]\n",
    "patients_sel.to_csv('../data/processed/patients_selected.csv', \n",
    "                    index=False)\n",
    "print(patients_sel.info())\n",
    "del patients_raw, admissions_raw, sample_df"
   ]
  },
  {
   "cell_type": "markdown",
   "id": "eee391b4",
   "metadata": {},
   "source": [
    "Awesome! Things are looking good so far. Let's move on to our next table. "
   ]
  },
  {
   "cell_type": "markdown",
   "id": "ea008881",
   "metadata": {},
   "source": [
    "### Diagnoses table  \n",
    "\n",
    "For every hospital admission, there is a subject_id and a hadm_id. There is also a seq_num whch lists all the diagnoses that were made during the visit. These diagnoses are given as codes which can be decoded with another table, d_icd_diagnoses. Our strategy for extracting data out of this table will be as follows:   \n",
    "\n",
    "1. Extract all the data from diagnoses_icd table where the subject_id is in our selected list.  \n",
    "2. Merge the d_icd_diagnoses table with the icd_code column of the dimension table.   \n",
    "3. Collapse the long_title of each subject_id and hadm_id combination, so that we could use create a free form text column that can be vectorized to serve as a feature.   \n",
    "4. This will be our diagnoses_sel table(without vectorizing yet)    "
   ]
  },
  {
   "cell_type": "code",
   "execution_count": null,
   "id": "781c56d6",
   "metadata": {},
   "outputs": [
    {
     "name": "stdout",
     "output_type": "stream",
     "text": [
      "<class 'pandas.core.frame.DataFrame'>\n",
      "Index: 750774 entries, 168 to 6363530\n",
      "Data columns (total 5 columns):\n",
      " #   Column       Non-Null Count   Dtype \n",
      "---  ------       --------------   ----- \n",
      " 0   subject_id   750774 non-null  object\n",
      " 1   hadm_id      750774 non-null  object\n",
      " 2   seq_num      750774 non-null  int64 \n",
      " 3   icd_code     750774 non-null  object\n",
      " 4   icd_version  750774 non-null  int64 \n",
      "dtypes: int64(2), object(3)\n",
      "memory usage: 34.4+ MB\n",
      "None\n",
      "    subject_id   hadm_id  seq_num icd_code  icd_version\n",
      "168   10000764  27897940        1     8020            9\n",
      "169   10000764  27897940        2    41071            9\n",
      "170   10000764  27897940        3     5849            9\n",
      "171   10000764  27897940        4     2875            9\n",
      "172   10000764  27897940        5     7802            9\n"
     ]
    }
   ],
   "source": [
    "diagnoses_icd_raw = pd.read_csv('../data/raw/diagnoses_icd.csv.gz', \n",
    "                                compression='gzip', \n",
    "                                dtype={'subject_id': str,\n",
    "                                       'hadm_id': str,\n",
    "                                       'icd_code': str,\n",
    "                                       'seq_num': int})\n",
    "\n",
    "diagnoses_icd_sel = diagnoses_icd_raw[diagnoses_icd_raw['subject_id'].isin(subject_id_list)]\n",
    "\n",
    "del diagnoses_icd_raw\n",
    "\n",
    "print(diagnoses_icd_sel.info())\n",
    "print(diagnoses_icd_sel.head())"
   ]
  },
  {
   "cell_type": "code",
   "execution_count": null,
   "id": "c0953fa5",
   "metadata": {},
   "outputs": [
    {
     "name": "stdout",
     "output_type": "stream",
     "text": [
      "<class 'pandas.core.frame.DataFrame'>\n",
      "RangeIndex: 112107 entries, 0 to 112106\n",
      "Data columns (total 3 columns):\n",
      " #   Column       Non-Null Count   Dtype \n",
      "---  ------       --------------   ----- \n",
      " 0   icd_code     112107 non-null  object\n",
      " 1   icd_version  112107 non-null  int64 \n",
      " 2   long_title   112107 non-null  object\n",
      "dtypes: int64(1), object(2)\n",
      "memory usage: 2.6+ MB\n",
      "None\n",
      "  icd_code  icd_version                             long_title\n",
      "0     0010            9         Cholera due to vibrio cholerae\n",
      "1     0011            9  Cholera due to vibrio cholerae el tor\n",
      "2     0019            9                   Cholera, unspecified\n",
      "3     0020            9                          Typhoid fever\n",
      "4     0021            9                    Paratyphoid fever A\n"
     ]
    }
   ],
   "source": [
    "# Let us extract the dimension table for the diagnoses_icd table\n",
    "d_icd_codes = pd.read_csv('../data/raw/d_icd_diagnoses.csv.gz',\n",
    "                          compression='gzip',\n",
    "                          dtype={'icd_code': str,\n",
    "                                 'long_title': str})\n",
    "\n",
    "print(d_icd_codes.info())\n",
    "print(d_icd_codes.head())"
   ]
  },
  {
   "cell_type": "markdown",
   "id": "b765760e",
   "metadata": {},
   "source": [
    "**Quick checkpoint:** So far our strategy seems to be working. Let us move on to merge them and process them further.  "
   ]
  },
  {
   "cell_type": "code",
   "execution_count": null,
   "id": "b3e93b97",
   "metadata": {},
   "outputs": [
    {
     "name": "stdout",
     "output_type": "stream",
     "text": [
      "<class 'pandas.core.frame.DataFrame'>\n",
      "RangeIndex: 764575 entries, 0 to 764574\n",
      "Data columns (total 6 columns):\n",
      " #   Column       Non-Null Count   Dtype \n",
      "---  ------       --------------   ----- \n",
      " 0   subject_id   764575 non-null  object\n",
      " 1   hadm_id      764575 non-null  object\n",
      " 2   seq_num      764575 non-null  int64 \n",
      " 3   icd_code     764575 non-null  object\n",
      " 4   icd_version  764575 non-null  int64 \n",
      " 5   long_title   764575 non-null  object\n",
      "dtypes: int64(2), object(4)\n",
      "memory usage: 35.0+ MB\n",
      "None\n",
      "  subject_id   hadm_id  seq_num icd_code  icd_version  \\\n",
      "0   10000764  27897940        1     8020            9   \n",
      "1   10000764  27897940        2    41071            9   \n",
      "2   10000764  27897940        3     5849            9   \n",
      "3   10000764  27897940        4     2875            9   \n",
      "4   10000764  27897940        5     7802            9   \n",
      "\n",
      "                                          long_title  \n",
      "0                     Closed fracture of nasal bones  \n",
      "1  Subendocardial infarction, initial episode of ...  \n",
      "2                  Acute kidney failure, unspecified  \n",
      "3                      Thrombocytopenia, unspecified  \n",
      "4                               Syncope and collapse  \n"
     ]
    }
   ],
   "source": [
    "# arrange the diagnoses_icd table by subject_id, hadm_id and seq_num\n",
    "diagnoses_icd_sel = diagnoses_icd_sel.sort_values(by=['subject_id', 'hadm_id', 'seq_num'])\n",
    "\n",
    "# Merge the diagnoses_icd_sel table with the d_icd_codes table on the icd_code column\n",
    "diagnoses_icd_sel = diagnoses_icd_sel.merge(d_icd_codes, \n",
    "                                            on='icd_code', \n",
    "                                            how='left', \n",
    "                                            suffixes=('', '_dup'))\n",
    "\n",
    "diagnoses_icd_sel = diagnoses_icd_sel.drop([col for col in diagnoses_icd_sel.columns if col.endswith('_dup')], axis=1)\n",
    "\n",
    "print(diagnoses_icd_sel.info())\n",
    "print(diagnoses_icd_sel.head())"
   ]
  },
  {
   "cell_type": "markdown",
   "id": "8499245b",
   "metadata": {},
   "source": [
    "We managed to successfully combine the tables. The next step is to collapse the icd descriptions for each subject_id and hadm_id combination.   "
   ]
  },
  {
   "cell_type": "code",
   "execution_count": null,
   "id": "c6eee0fe",
   "metadata": {},
   "outputs": [
    {
     "name": "stdout",
     "output_type": "stream",
     "text": [
      "<class 'pandas.core.frame.DataFrame'>\n",
      "RangeIndex: 66963 entries, 0 to 66962\n",
      "Data columns (total 3 columns):\n",
      " #   Column      Non-Null Count  Dtype \n",
      "---  ------      --------------  ----- \n",
      " 0   subject_id  66963 non-null  object\n",
      " 1   hadm_id     66963 non-null  object\n",
      " 2   long_title  66963 non-null  object\n",
      "dtypes: object(3)\n",
      "memory usage: 1.5+ MB\n",
      "None\n",
      "  subject_id   hadm_id                                         long_title\n",
      "0   10000764  27897940  Closed fracture of nasal bones Subendocardial ...\n",
      "1   10000980  20897796  Hypertensive heart and chronic kidney disease ...\n",
      "2   10000980  24947999  Acute on chronic systolic heart failure Chroni...\n",
      "3   10000980  25242409  Acute venous embolism and thrombosis of deep v...\n",
      "4   10000980  25911675  Iron deficiency anemia secondary to blood loss...\n"
     ]
    }
   ],
   "source": [
    "# Now lets collapse the long_title column into a single string for each subject_id and hadm_id combination\n",
    "diagnoses_icd_sel['long_title'] = diagnoses_icd_sel['long_title'].fillna('')\n",
    "\n",
    "diagnoses_icd_sel = diagnoses_icd_sel.groupby(['subject_id', 'hadm_id']).agg({'long_title': ' '.join}).reset_index()\n",
    "\n",
    "diagnoses_icd_sel.to_csv('../data/processed/diagnoses_icd_sel.csv', index=False)\n",
    "\n",
    "print(diagnoses_icd_sel.info())\n",
    "print(diagnoses_icd_sel.head())"
   ]
  },
  {
   "cell_type": "markdown",
   "id": "0268fb3e",
   "metadata": {},
   "source": [
    "Perfect! We got the table we needed.   \n",
    "    \n",
    "**A quick recap: What did we achieve so far?**   \n",
    "    \n",
    "So far we have managed to complete the following:   \n",
    "1. A sample of the patient list that is a class balanced for race, and gender.  \n",
    "2. The demographics of the patient list.   \n",
    "3. Admissions history of the patient.   \n",
    "4. ICD diagnoses of each of those admissions.   \n",
    "\n",
    "Here are the files that we have created that we will use for feature engineering:   \n",
    "\n",
    "1. diagnoses_icd_sel: '/data/processed/diagnoses_icd_sel.csv'    \n",
    "2. admissions_sel: /data/processed/admissions_selected.csv'   \n",
    "3. patients_sel: /data/processed/patients_selected.csv'    \n",
    "\n",
    "And the above files contain the following information:   \n",
    "\n",
    "1. Demograhics - including age, gender, race  \n",
    "2. Insurance details   \n",
    "3. Admission details  \n",
    "4. Discharge details(including if the patient died during the stay)   \n",
    "5. List of all the diagnoses.   \n",
    "\n",
    "**Whats next?** Feature engineering so that we have data for input, and output to train the machine learning algorithm.  "
   ]
  },
  {
   "cell_type": "markdown",
   "id": "33ba5dd9",
   "metadata": {},
   "source": []
  }
 ],
 "metadata": {
  "kernelspec": {
   "display_name": "aihc_tutorial",
   "language": "python",
   "name": "python3"
  },
  "language_info": {
   "codemirror_mode": {
    "name": "ipython",
    "version": 3
   },
   "file_extension": ".py",
   "mimetype": "text/x-python",
   "name": "python",
   "nbconvert_exporter": "python",
   "pygments_lexer": "ipython3",
   "version": "3.12.11"
  }
 },
 "nbformat": 4,
 "nbformat_minor": 5
}
